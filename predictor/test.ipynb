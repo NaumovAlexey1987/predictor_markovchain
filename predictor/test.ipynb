{
 "cells": [
  {
   "cell_type": "code",
   "execution_count": 3,
   "metadata": {},
   "outputs": [],
   "source": [
    "import pandas as pd\n",
    "import numpy as np\n",
    "import seaborn as sns\n",
    "import matplotlib.pyplot as plt\n",
    "\n",
    "from sklearn.cluster import DBSCAN, OPTICS\n",
    "from sklearn.metrics import mean_squared_error, mean_absolute_percentage_error\n",
    "\n",
    "from scipy.special import gamma\n",
    "from scipy.stats import moment, kurtosis, entropy\n",
    "\n",
    "from collections import defaultdict\n",
    "\n",
    "from itertools import product, combinations\n",
    "\n",
    "import pickle\n",
    "from joblib import Parallel, delayed\n",
    "\n",
    "import warnings\n",
    "\n",
    "warnings.simplefilter(action='ignore', category=FutureWarning)\n",
    "warnings.simplefilter(action='ignore', category=RuntimeWarning)\n",
    "np.seterr(divide='ignore', invalid='ignore')\n",
    "\n",
    "ROOT_PATH = 'D:/Jupyter/pred_antonova/time_series_prediction/'"
   ]
  },
  {
   "cell_type": "code",
   "execution_count": 967,
   "metadata": {},
   "outputs": [],
   "source": [
    "class Wishart:\n",
    "    def __init__(self, wishart_neighbors, significance_level):\n",
    "        self.wishart_neighbors = wishart_neighbors  # Number of neighbors\n",
    "        self.significance_level = significance_level  # Significance level\n",
    "\n",
    "    def fit(self, X):\n",
    "        from sklearn.neighbors import KDTree\n",
    "        kdt = KDTree(X, metric='euclidean')\n",
    "\n",
    "        #add one because you are your neighb.\n",
    "        distances, neighbors = kdt.query(X, k = self.wishart_neighbors + 1, return_distance = True)\n",
    "        neighbors = neighbors[:, 1:]\n",
    "\n",
    "\n",
    "        distances = distances[:, -1]\n",
    "        indexes = np.argsort(distances)\n",
    "        \n",
    "        size, dim = X.shape\n",
    "\n",
    "        self.object_labels = np.zeros(size, dtype = int) - 1\n",
    "\n",
    "        #index in tuple\n",
    "        #min_dist, max_dist, flag_to_significant\n",
    "        self.clusters = np.array([(1., 1., 0)])\n",
    "        self.clusters_to_objects = defaultdict(list)\n",
    "        # print('Start clustering')\n",
    "\n",
    "        for index in indexes:\n",
    "            neighbors_clusters =\\\n",
    "                np.concatenate([self.object_labels[neighbors[index]], self.object_labels[neighbors[index]]])\n",
    "            unique_clusters = np.unique(neighbors_clusters).astype(int)\n",
    "            unique_clusters = unique_clusters[unique_clusters != -1]\n",
    "\n",
    "\n",
    "            if len(unique_clusters) == 0:\n",
    "                self._create_new_cluster(index, distances[index])\n",
    "            else:\n",
    "                max_cluster = unique_clusters[-1]\n",
    "                min_cluster = unique_clusters[0]\n",
    "                if max_cluster == min_cluster:\n",
    "                    if self.clusters[max_cluster][-1] < 0.5:\n",
    "                        self._add_elem_to_exist_cluster(index, distances[index], max_cluster)\n",
    "                    else:\n",
    "                        self._add_elem_to_noise(index)\n",
    "                else:\n",
    "                    my_clusters = self.clusters[unique_clusters]\n",
    "                    flags = my_clusters[:, -1]\n",
    "                    if np.min(flags) > 0.5:\n",
    "                        self._add_elem_to_noise(index)\n",
    "                    else:\n",
    "                        significan = np.power(my_clusters[:, 0], -dim) - np.power(my_clusters[:, 1], -dim)\n",
    "                        significan *= self.wishart_neighbors\n",
    "                        significan /= size\n",
    "                        significan /= np.power(np.pi, dim / 2)\n",
    "                        significan *= gamma(dim / 2 + 1)\n",
    "                        significan_index = significan >= self.significance_level\n",
    "\n",
    "                        significan_clusters = unique_clusters[significan_index]\n",
    "                        not_significan_clusters = unique_clusters[~significan_index]\n",
    "                        significan_clusters_count = len(significan_clusters)\n",
    "                        if significan_clusters_count > 1 or min_cluster == 0:\n",
    "                            self._add_elem_to_noise(index)\n",
    "                            self.clusters[significan_clusters, -1] = 1\n",
    "                            for not_sig_cluster in not_significan_clusters:\n",
    "                                if not_sig_cluster == 0:\n",
    "                                    continue\n",
    "\n",
    "                                for bad_index in self.clusters_to_objects[not_sig_cluster]:\n",
    "                                    self._add_elem_to_noise(bad_index)\n",
    "                                self.clusters_to_objects[not_sig_cluster].clear()\n",
    "                        else:\n",
    "                            for cur_cluster in unique_clusters:\n",
    "                                if cur_cluster == min_cluster:\n",
    "                                    continue\n",
    "\n",
    "                                for bad_index in self.clusters_to_objects[cur_cluster]:\n",
    "                                    self._add_elem_to_exist_cluster(bad_index, distances[bad_index], min_cluster)\n",
    "                                self.clusters_to_objects[cur_cluster].clear()\n",
    "\n",
    "                            self._add_elem_to_exist_cluster(index, distances[index], min_cluster)\n",
    "\n",
    "        return self.clean_data()\n",
    "\n",
    "    def clean_data(self):\n",
    "        unique = np.unique(self.object_labels)\n",
    "        index = np.argsort(unique)\n",
    "        if unique[0] != 0:\n",
    "            index += 1\n",
    "        true_cluster = {unq :  index for unq, index in zip(unique, index)}\n",
    "        result = np.zeros(len(self.object_labels), dtype = int)\n",
    "        for index, unq in enumerate(self.object_labels):\n",
    "            result[index] = true_cluster[unq]\n",
    "        return result\n",
    "\n",
    "    def _add_elem_to_noise(self, index):\n",
    "        self.object_labels[index] = 0\n",
    "        self.clusters_to_objects[0].append(index)\n",
    "\n",
    "    def _create_new_cluster(self, index, dist):\n",
    "        self.object_labels[index] = len(self.clusters)\n",
    "        self.clusters_to_objects[len(self.clusters)].append(index)\n",
    "        self.clusters = np.append(self.clusters, [(dist, dist, 0)], axis = 0)\n",
    "\n",
    "    def _add_elem_to_exist_cluster(self, index, dist, cluster_label):\n",
    "        self.object_labels[index] = cluster_label\n",
    "        self.clusters_to_objects[cluster_label].append(index)\n",
    "        self.clusters[cluster_label][0] = min(self.clusters[cluster_label][0], dist)\n",
    "        self.clusters[cluster_label][1] = max(self.clusters[cluster_label][1], dist)"
   ]
  },
  {
   "cell_type": "code",
   "execution_count": 4,
   "metadata": {},
   "outputs": [],
   "source": [
    "n_train = 10_000\n",
    "n_test = 1_000 + 300 # to get test set of 1000, 300 - про запас\n",
    "n_passed = 3_000\n",
    "n_valid = 2_000\n",
    "\n",
    "with open(ROOT_PATH + 'data/lorenz.dat', 'rb') as f:\n",
    "    Y = pickle.load(f)\n",
    "\n",
    "Y1 = np.array(Y[n_passed:n_passed + n_train]).reshape(-1)\n",
    "Y2 = np.array(Y[n_passed + n_train:n_passed + n_train + n_test]).reshape(-1)\n",
    "Y3 = np.array(Y[n_passed + n_train + n_test:n_passed + n_train + n_test + n_valid]).reshape(-1)"
   ]
  },
  {
   "cell_type": "code",
   "execution_count": 1395,
   "metadata": {},
   "outputs": [],
   "source": [
    "motif_clustering_params = {\n",
    "    'beta': 0.2,\n",
    "    'mc_method': 'db'\n",
    "}\n",
    "\n",
    "prediction_params = {\n",
    "    'up_method' : 'db', # {'a', 'wi', 'db', 'op'}\n",
    "    'eps' : 0.01, # max distance in cluster\n",
    "    'min_samples' : 5, # min number of samples in cluster\n",
    "    'alg_type' : 's', # {'s', 'tp'}\n",
    "    'np_method' : 'fp'\n",
    "}\n",
    "\n",
    "non_pred_model_prediction = predictor.ForcedPredictionNPM()\n",
    "base_model = predictor.LimitClusterSizeNPM(0.5, 5)\n",
    "non_pred_model_healing = predictor.WeirdPatternsNPM(Y1, eps0=0.1, base_non_pred_model=base_model)\n",
    "\n",
    "predictor_main = predictor.TimeSeriesPredictor([], non_pred_model_prediction)"
   ]
  },
  {
   "cell_type": "code",
   "execution_count": 1396,
   "metadata": {},
   "outputs": [
    {
     "data": {
      "text/plain": [
       "\"\\nwith open(ROOT_PATH + 'mine/cluster_motifs.dat', 'wb') as f:\\n    pass\\nwith open(ROOT_PATH + 'mine/cluster_motifs.dat', 'ab') as f:\\n    pickle.dump(cluster_motifs, f)\\n\""
      ]
     },
     "execution_count": 1396,
     "metadata": {},
     "output_type": "execute_result"
    }
   ],
   "source": [
    "cluster_motifs = predictor_main.cluster_motifs(Y1)\n",
    "'''\n",
    "with open(ROOT_PATH + 'mine/cluster_motifs.dat', 'wb') as f:\n",
    "    pass\n",
    "with open(ROOT_PATH + 'mine/cluster_motifs.dat', 'ab') as f:\n",
    "    pickle.dump(cluster_motifs, f)\n",
    "'''"
   ]
  },
  {
   "cell_type": "code",
   "execution_count": 1397,
   "metadata": {},
   "outputs": [
    {
     "data": {
      "text/plain": [
       "\"\\nwith open(ROOT_PATH + 'mine/unified_predictions.dat', 'wb') as f:\\n    pass\\nwith open(ROOT_PATH + 'mine/unified_predictions.dat', 'ab') as f:\\n    pickle.dump(unified_predictions, f)\\n\\nwith open(ROOT_PATH + 'mine/possible_predictions.dat', 'wb') as f:\\n    pass\\nwith open(ROOT_PATH + 'mine/possible_predictions.dat', 'ab') as f:\\n    pickle.dump(possible_predictions, f)\\n\""
      ]
     },
     "execution_count": 1397,
     "metadata": {},
     "output_type": "execute_result"
    }
   ],
   "source": [
    "Y_pred = np.append(Y1[-100:], Y2[:100])\n",
    "unified_predictions, possible_predictions = predictor_main.predict(Y_pred, 100, **prediction_params)\n",
    "\n",
    "'''\n",
    "with open(ROOT_PATH + 'mine/unified_predictions.dat', 'wb') as f:\n",
    "    pass\n",
    "with open(ROOT_PATH + 'mine/unified_predictions.dat', 'ab') as f:\n",
    "    pickle.dump(unified_predictions, f)\n",
    "\n",
    "with open(ROOT_PATH + 'mine/possible_predictions.dat', 'wb') as f:\n",
    "    pass\n",
    "with open(ROOT_PATH + 'mine/possible_predictions.dat', 'ab') as f:\n",
    "    pickle.dump(possible_predictions, f)\n",
    "'''"
   ]
  },
  {
   "cell_type": "code",
   "execution_count": 67,
   "metadata": {},
   "outputs": [],
   "source": [
    "healing_params = {\n",
    "    'healing_up_method' : 'db', \n",
    "    'weighted_up' : True,  \n",
    "    # {'double_clustering', 'weighred_average', 'factor', \n",
    "    # 'pattern_length', 'pattern_length_dist', 'dist', \n",
    "    # 'dist_factor'}\n",
    "    'weight_method' : 'factor', \n",
    "    'clear_noise' : False,\n",
    "    'factor' : 0.7,\n",
    "    'alg_type' : 's',\n",
    "    'mc_method' : 'db',\n",
    "    'beta' : 0.2,\n",
    "    'fixed_points' : False,\n",
    "    'healing_motif_match_eps': 0.01,\n",
    "    'eps_stop' : 0.05\n",
    "}\n",
    "\n",
    "healed_unififed_predictions, possible_unified_predictions = predictor_main.self_healing(Y_pred, 100, return_n_iterations=False, \\\n",
    "    unified_predictions=unified_predictions, \\\n",
    "    possible_predictions=possible_predictions, \\\n",
    "    fixed_points_idx=[],\n",
    "    **healing_params)\n",
    "\n",
    "with open(ROOT_PATH + 'mine/healed_unififed_predictions.dat', 'wb') as f:\n",
    "    pass\n",
    "with open(ROOT_PATH + 'mine/healed_unififed_predictions.dat', 'ab') as f:\n",
    "    pickle.dump(healed_unififed_predictions, f)\n",
    "\n",
    "with open(ROOT_PATH + 'mine/possible_unified_predictions.dat', 'wb') as f:\n",
    "    pass\n",
    "with open(ROOT_PATH + 'mine/possible_unified_predictions.dat', 'ab') as f:\n",
    "    pickle.dump(possible_unified_predictions, f)"
   ]
  },
  {
   "cell_type": "code",
   "execution_count": null,
   "metadata": {},
   "outputs": [],
   "source": [
    "from scipy.interpolate import interp1d\n",
    "\n",
    "fig, ax = plt.subplots(1, 1, figsize=(10, 6))\n",
    "h = 100\n",
    "x = [i for i in range(1, h + 1)]\n",
    "\n",
    "interp = interp1d(x=x, y=Y2[100:h + 100], kind='cubic', bounds_error=False)\n",
    "xi_true = np.linspace(1, 100, 1000)\n",
    "yi_true = interp(xi_true)\n",
    "sns.lineplot(x=xi_true, y=yi_true, ax=ax, color='blue', alpha=0.5)\n",
    "\n",
    "predictable = np.argwhere(unified_predictions[100:] != 'N').reshape(1, -1)[0]\n",
    "y = np.take(unified_predictions[100:], predictable).astype(float)\n",
    "x1 = np.take(x, predictable)\n",
    "interp = interp1d(x=x1, y=y, kind='cubic', bounds_error=False)\n",
    "xi = np.linspace(1, predictable[-1], 1000)\n",
    "yi = interp(xi)\n",
    "sns.lineplot(x=xi, y=yi, color='green', ax=ax)\n",
    "\n",
    "predictable = np.argwhere(healed_unififed_predictions != 'N').reshape(1, -1)[0]\n",
    "y = np.take(healed_unififed_predictions, predictable).astype(float)\n",
    "x1 = np.take(x, predictable)\n",
    "interp = interp1d(x=x1, y=y, kind='cubic', bounds_error=False)\n",
    "xi = np.linspace(1, predictable[-1], 1000)\n",
    "yi = interp(xi)\n",
    "sns.lineplot(x=xi, y=yi, color='red', ax=ax)"
   ]
  },
  {
   "cell_type": "code",
   "execution_count": 1285,
   "metadata": {},
   "outputs": [],
   "source": [
    "def self_healing_window(train_array, heal_array, not_predictable_point_label = 'N'):\n",
    "    healed_array = heal_array\n",
    "    nnp_label = not_predictable_point_label\n",
    "\n",
    "    n = len(train_array)\n",
    "    k = len(heal_array)\n",
    "\n",
    "    checked_windows = []\n",
    "\n",
    "    for i in range(n - k):\n",
    "        error = 0\n",
    "        \n",
    "        for j in range(k):\n",
    "            if heal_array[j] != nnp_label:\n",
    "                error += (train_array[i + j] - heal_array[j]) ** 2\n",
    "        \n",
    "        checked_windows.append([i, error])\n",
    "    \n",
    "    best_window = min(checked_windows, key = lambda x: x[1])\n",
    "\n",
    "    for i in range(k):\n",
    "        if heal_array[i] == nnp_label:\n",
    "            heal_array[i] = train_array[i + best_window[0]]\n",
    "\n",
    "    return healed_array"
   ]
  },
  {
   "cell_type": "code",
   "execution_count": 1358,
   "metadata": {},
   "outputs": [],
   "source": [
    "import networkx as nx\n",
    "from tqdm import tqdm\n",
    "\n",
    "class predictor_markov_chain():\n",
    "    def __init__(self):\n",
    "        self.graph = None\n",
    "        self.train_array = None\n",
    "        self.max_pattern_len = None\n",
    "\n",
    "    def fit_train_array(self, train_array):\n",
    "        self.train_array = train_array\n",
    "\n",
    "    def produce_chain_diff(self, max_pattern_len = 100, round_ = 1, mode = 'ind'):\n",
    "\n",
    "        if self.train_array.all() == None:\n",
    "            raise ValueError('Train array is empty')\n",
    "\n",
    "        if len(self.train_array) < max_pattern_len:\n",
    "            raise ValueError('Max pattern length is greater than train array length')\n",
    "\n",
    "        G = nx.DiGraph()\n",
    "        n = len(self.train_array)\n",
    "        G.add_node(0, diff = None, level = 0)\n",
    "\n",
    "        for i in tqdm(range(n - max_pattern_len)):\n",
    "            current_node = 0\n",
    "\n",
    "            for j in range(max_pattern_len - 1):\n",
    "                diff = round(self.train_array[i + j] - self.train_array[i + j + 1], round_)\n",
    "\n",
    "                if mode == 'ind':\n",
    "                    current_level = [i for i in G.nodes if G.nodes[i]['level'] == j + 1]\n",
    "                elif mode == 'uni':\n",
    "                    current_level = [i for i in G.neighbors(current_node)]\n",
    "\n",
    "                if diff not in [G.nodes[i]['diff'] for i in current_level]:\n",
    "                    new_node = len(G)\n",
    "                    G.add_node(new_node, diff = diff, level = j + 1)\n",
    "                    G.add_edge(current_node, new_node, weight = 1)\n",
    "                    current_node  = new_node\n",
    "                \n",
    "                else:\n",
    "                    correct_node = [i for i in current_level if G.nodes[i]['diff'] == diff][0]\n",
    "                    \n",
    "                    if G.has_edge(current_node, correct_node):\n",
    "                        G[current_node][correct_node]['weight'] += 1\n",
    "                    \n",
    "                    else:\n",
    "                        G.add_edge(current_node, correct_node, weight = 1)\n",
    "\n",
    "                    if G.nodes[correct_node]['level'] - G.nodes[current_node]['level'] != 1:\n",
    "                        print('Error')\n",
    "                        \n",
    "                    current_node = correct_node\n",
    "\n",
    "    \n",
    "        self.graph = G\n",
    "        self.max_pattern_len = max_pattern_len\n",
    "        pass\n",
    "\n",
    "    def produce_chain_grad(self, max_pattern_len = 100, round_ = 1, mode = 'ind'):\n",
    "        \n",
    "        if self.train_array.all() == None:\n",
    "            raise ValueError('Train array is empty')\n",
    "\n",
    "        if len(self.train_array) < max_pattern_len:\n",
    "            raise ValueError('Max pattern length is greater than train array length')\n",
    "\n",
    "        G = nx.DiGraph()\n",
    "        n = len(self.train_array)\n",
    "        G.add_node(0, grad = None, level = None)\n",
    "\n",
    "        for i in range(n - max_pattern_len):\n",
    "            current_node = 0\n",
    "\n",
    "            for j in range(max_pattern_len - 2):\n",
    "                grad = round(self.train_array[i + j] - 2 * self.train_array[i + j + 1] + self.train_array[i + j + 2], round_)\n",
    "\n",
    "                if mode == 'uni':\n",
    "                    current_level = [i for i in G.nodes if G.nodes[i]['level'] == j + 1]\n",
    "                elif mode == 'ind':\n",
    "                    current_level = [i for i in G.neighbors(current_node)]\n",
    "\n",
    "                if grad not in [G.nodes[i]['grad'] for i in current_level]:\n",
    "                    new_node = len(G)\n",
    "                    G.add_node(new_node, grad = grad, level = j + 1)\n",
    "                    G.add_edge(current_node, new_node, weight = 1)\n",
    "                    current_node = new_node\n",
    "            \n",
    "                else:\n",
    "                    correct_node = [i for i in current_level if G.nodes[i]['grad'] == grad][0]\n",
    "\n",
    "                    if G.has_edge(current_node, correct_node):\n",
    "                        G[current_node][correct_node]['weight'] += 1\n",
    "                \n",
    "                    else:\n",
    "                        G.add_edge(current_node, correct_node, weight = 1)\n",
    "                \n",
    "                    current_node = correct_node\n",
    "        \n",
    "        self.graph = G\n",
    "        self.max_pattern_len = max_pattern_len\n",
    "        pass\n",
    "\n",
    "    def get_graph(self):\n",
    "        return self.graph\n",
    "    \n",
    "    def get_max_pattern_len(self):\n",
    "        return self.max_pattern_len\n",
    "    \n",
    "    def get_trajectory_diff(self,start_y, trajectory_len, power = 1):\n",
    "\n",
    "        if self.graph == None:\n",
    "            raise ValueError('Graph not founded')\n",
    "\n",
    "        if trajectory_len > self.max_pattern_len:\n",
    "            raise ValueError('Trajectory length > Max possible trajectory lenght')\n",
    "\n",
    "        current_node = 0\n",
    "        current_y = start_y\n",
    "        trajectory = [start_y]\n",
    "\n",
    "        for i in range(trajectory_len - 2):\n",
    "\n",
    "            weights = np.array([self.graph[current_node][i]['weight'] for i in self.graph.neighbors(current_node)]) ** power\n",
    "            nodes = [i for i in self.graph[current_node]]\n",
    "            weights = weights / weights.sum()\n",
    "\n",
    "            if np.array(weights).sum() == 0:\n",
    "                return trajectory\n",
    "\n",
    "            next_node = np.random.choice(nodes, p = weights)\n",
    "            current_y = current_y - self.graph.nodes[next_node]['diff']\n",
    "            trajectory.append(current_y)\n",
    "            current_node = next_node\n",
    "            \n",
    "        return trajectory\n",
    "\n",
    "    def continue_trajectory_diff(self, trace, power = 1):\n",
    "        trajectory = [trace[0]]\n",
    "        current_node = 0\n",
    "\n",
    "        for i in range(len(trace) - 1):\n",
    "            diff = trace[i] - trace[i + 1]\n",
    "            nodes = [(i, self.graph.nodes[i]['diff']) for i in self.graph.neighbors(current_node)]\n",
    "            error = [(i, np.sqrt((j - diff) ** 2)) for i, j in nodes]\n",
    "            next_node = min(error, key = lambda x: x[1])[0]\n",
    "\n",
    "            trajectory.append(trajectory[i] - self.graph.nodes[next_node]['diff'])\n",
    "            current_node = next_node\n",
    "        \n",
    "        current_y = trajectory[-1]\n",
    "\n",
    "        for i in range(self.max_pattern_len - len(trace)):\n",
    "            \n",
    "             weights = np.array([self.graph[current_node][i]['weight'] for i in self.graph.neighbors(current_node)]) ** power\n",
    "             nodes = [i for i in self.graph[current_node]]\n",
    "             weights = weights / weights.sum()\n",
    "\n",
    "             next_node = np.random.choice(nodes, p = weights)\n",
    "             current_y = current_y - self.graph.nodes[next_node]['diff']\n",
    "             trajectory.append(current_y)\n",
    "             current_node = next_node\n",
    "            \n",
    "        return trajectory\n",
    "\n",
    "    def get_trajectory_grad(self, start_couple, trajectory_len, power = 1):\n",
    "\n",
    "        if self.graph == None:\n",
    "            raise ValueError('Graph not founded')\n",
    "\n",
    "        if trajectory_len > self.max_pattern_len:\n",
    "            raise ValueError('Trajectory length > Max possible trajectory lenght')\n",
    "\n",
    "        trajectory = [start_couple[0], start_couple[1]]\n",
    "\n",
    "        velocity = trajectory[0] - trajectory[1]\n",
    "        current_y = trajectory[1]\n",
    "        current_node = 0\n",
    "\n",
    "        for i in range(trajectory_len - 3):\n",
    "            \n",
    "            weights = np.array([self.graph[current_node][i]['weight'] for i in self.graph.neighbors(current_node)]) ** power\n",
    "            nodes = [i for i in self.graph[current_node]]\n",
    "            weights = weights / weights.sum()\n",
    "\n",
    "            next_node = np.random.choice(nodes, p = weights)\n",
    "            velocity = velocity - self.graph.nodes[next_node]['grad']\n",
    "            current_y = current_y - velocity\n",
    "            trajectory.append(current_y)\n",
    "            current_node = next_node\n",
    "\n",
    "        return trajectory\n",
    "    \n",
    "    def continue_trajectory_grad(self, trace, power = 1):\n",
    "        trajectory = [trace[0], trace[1]]\n",
    "        velocity = trace[0] - trace[1]\n",
    "        current_node = 0\n",
    "\n",
    "        for i in range(len(trace) - 2):\n",
    "            grad = trace[i] - 2 * trace[i + 1] + trace[i + 2]\n",
    "            nodes = [(i, self.graph.nodes[i]['grad']) for i in self.graph.neighbors(current_node)]\n",
    "            error = [(i, np.sqrt(j - grad)) for i, j in nodes]\n",
    "            next_node = min(error, key = lambda x: x[1])[0]\n",
    "\n",
    "            velocity = velocity - self.graph.nodes[next_node]['grad']\n",
    "            trajectory.append(trajectory[-1] - velocity)\n",
    "            current_node = next_node\n",
    "        \n",
    "        for i in range(self.max_pattern_len - len(trace)):\n",
    "            weights = np.array([self.graph[current_node][i]['weight'] for i in self.graph.neighbors(current_node)]) ** power\n",
    "            nodes = [i for i in self.graph[current_node]]\n",
    "            weights = weights / weights.sum()\n",
    "\n",
    "            next_node = np.random.choice(nodes, p = weights)\n",
    "            velocity = velocity - self.graph.nodes[next_node]['grad']\n",
    "            trajectory.append(trajectory[-1] - velocity)\n",
    "            current_node = next_node\n",
    "        \n",
    "        return trajectory\n",
    "\n",
    "    def unified_prediction(self, possible_predictions, up_method, \\\n",
    "        random_perturbation=False, **kwargs):\n",
    "        '''Calculates unified prediciton from set of possible predicted values\n",
    "\n",
    "        Parameters\n",
    "        ----------\n",
    "        possible_predictions: list or 1D np.array\n",
    "            List of possible predictions\n",
    "        up_method: str from {'a', 'wi', 'db', 'op'}\n",
    "            Method of estimating unified prediciton\n",
    "            'a'  - average\n",
    "            'wi' - clustering with Wishart, get largest cluster mean\n",
    "            'db' - clustering with DBSCAN, get largest cluster mean\n",
    "            'op' - clustering with OPTICS, get largest cluster mean\n",
    "        random_perturbation: boolean\n",
    "            Add noise to unified prediction\n",
    "\n",
    "        **kwargs\n",
    "        -- for Wishart, DBSCAN and OPTICS clustering --\n",
    "        min_samples: int > 1 or float between 0 and 1, default=5\n",
    "            Minimal number of samples in cluster\n",
    "        eps: float from 0 to 1, default=0.01\n",
    "            Max distance within one cluster\n",
    "        cluster_size_threshold: float from 0 to 1, default=0.2\n",
    "            Minimal percentage of points in largest cluster to call point predictable\n",
    "        one_cluster_rule: boolean, defalut=False\n",
    "            Point is predictable only is there is one cluster (not including noise)\n",
    "        '''\n",
    "\n",
    "        if len(possible_predictions) == 0:\n",
    "            return 'N'\n",
    "        min_samples = kwargs.get('min_samples', 5)\n",
    "        eps = kwargs.get('eps', 0.01)\n",
    "\n",
    "        if up_method == 'a':\n",
    "            avg = np.mean(possible_predictions)\n",
    "            if random_perturbation:\n",
    "                avg += np.random.normal(0, 0.01)\n",
    "            return avg\n",
    "\n",
    "        if up_method == 'wi' or up_method == 'db' or up_method=='op':  \n",
    "            try: \n",
    "                if up_method == 'db': \n",
    "                    clustering = DBSCAN(eps=eps, min_samples=min_samples, metric='euclidean')\n",
    "                    labels = clustering.fit_predict(np.array(possible_predictions).reshape(-1, 1))\n",
    "                    \n",
    "                elif up_method == 'wi':\n",
    "                    clustering = Wishart(min_samples, eps)\n",
    "                    labels = clustering.fit(np.array(possible_predictions).reshape(-1, 1))\n",
    "                    labels[labels == 0] = -1\n",
    "                elif up_method == 'op':\n",
    "                    clustering = OPTICS(max_eps=eps, min_samples=min_samples)\n",
    "                    labels = clustering.fit_predict(np.array(possible_predictions).reshape(-1, 1))\n",
    "            except:\n",
    "                return 'N'\n",
    "                \n",
    "            threshold = kwargs.get('cluster_size_threshold', 0.2)\n",
    "            one_cluster_rule = kwargs.get('one_cluster_rule', False)\n",
    "            unique_labels, unique_counts = np.unique(labels, return_counts=True)\n",
    "            unique_labels = zip(unique_labels, unique_counts)\n",
    "            unique_labels = list(filter(lambda x: x[0] != -1, unique_labels))\n",
    "            if len(unique_labels) == 0:\n",
    "                return 'N'\n",
    "            if one_cluster_rule and len(unique_labels) > 1:\n",
    "                return 'N'\n",
    "            x, y = map(list, zip(*unique_labels))\n",
    "            max_count = max(y)\n",
    "            if max_count / len(possible_predictions) < threshold:\n",
    "                return 'N'\n",
    "\n",
    "            max_cluster = list(filter(lambda x: x[1] == max_count, unique_labels))[0]\n",
    "            \n",
    "            avg = np.mean(possible_predictions[labels == max_cluster[0]])\n",
    "            if random_perturbation:\n",
    "                avg += np.random.normal(0, 0.01)\n",
    "            return avg\n",
    "        \n",
    "    def predict(self, preceding_array, h, non_pred_model, up_method = 'a', alg_type = 'diff'):\n",
    "        \n",
    "        n = len(preceding_array)\n",
    "        k = self.max_pattern_len - n\n",
    "\n",
    "        if alg_type == 'diff':\n",
    "            alg = True\n",
    "            start_i = 1\n",
    "            if h > self.max_pattern_len - 2:\n",
    "                raise ValueError('Horizon > max possible len of prediction')\n",
    "        elif alg_type == 'grad':\n",
    "            alg = False\n",
    "            start_i = 2\n",
    "            if h > self.max_pattern_len - 3:\n",
    "                raise ValueError('Horizon > max possible len of prediction')\n",
    "        else:\n",
    "            raise ValueError('Wrong alg_type input')\n",
    "\n",
    "        predictions = []\n",
    "        possible_predictions = [[] for i in range(k + n - start_i - 1)]\n",
    "\n",
    "        for i in range(start_i, self.max_pattern_len - max(k, 0)):\n",
    "            \n",
    "            if alg:\n",
    "                pred_array = self.continue_trajectory_diff(preceding_array[-i:])\n",
    "            else:\n",
    "                pred_array = self.continue_trajectory_grad(preceding_array[-i:])\n",
    "            \n",
    "            for j in range(len(pred_array[(start_i + i):])):\n",
    "\n",
    "                try:\n",
    "                    possible_predictions[j].append(pred_array[(start_i + i):][j])\n",
    "                except IndexError:\n",
    "                    print(len(pred_array[i:]))\n",
    "                    print(len(possible_predictions))\n",
    "                    print(i, j)\n",
    "                \n",
    "        for i in range(len(possible_predictions)):\n",
    "            if non_pred_model.is_predictable(possible_predictions[i]):\n",
    "                predictions.append(self.unified_prediction(possible_predictions[i], up_method))\n",
    "            else:\n",
    "                predictions.append('N')\n",
    "\n",
    "        return predictions, possible_predictions\n"
   ]
  },
  {
   "cell_type": "code",
   "execution_count": 976,
   "metadata": {},
   "outputs": [
    {
     "data": {
      "text/plain": [
       "[<matplotlib.lines.Line2D at 0x1d183958c10>]"
      ]
     },
     "execution_count": 976,
     "metadata": {},
     "output_type": "execute_result"
    },
    {
     "data": {
      "image/png": "[encoded data removed]",
      "text/plain": [
       "<Figure size 432x288 with 1 Axes>"
      ]
     },
     "metadata": {
      "needs_background": "light"
     },
     "output_type": "display_data"
    }
   ],
   "source": [
    "lst = [i for i in range(100)]\n",
    "lst_y = Y1[:100]\n",
    "\n",
    "plt.plot(lst, lst_y)"
   ]
  },
  {
   "cell_type": "code",
   "execution_count": 1293,
   "metadata": {},
   "outputs": [
    {
     "name": "stdout",
     "output_type": "stream",
     "text": [
      "[0.290324534086983, 0.14494352570494598, 0.13977241628366002, 0.2961950894306572, 0.4094828745460525, 0.43506036680030186]\n",
      "[0.29032453 0.14494353 0.13977242 0.29619509 0.40948287]\n"
     ]
    }
   ],
   "source": [
    "heal_lst = [lst_y[30], 'N', lst_y[32], 'N', lst_y[34], lst_y[35]]\n",
    "healed_lst = self_healing_window(lst_y, heal_lst)\n",
    "print(healed_lst)\n",
    "print(lst_y[30:35])\n"
   ]
  },
  {
   "cell_type": "code",
   "execution_count": 1232,
   "metadata": {},
   "outputs": [],
   "source": [
    "pre = predictor_markov_chain()\n",
    "pre.fit_train_array(lst_y)\n",
    "pre.produce_chain_diff(30, 1, mode = 'uni')"
   ]
  },
  {
   "cell_type": "code",
   "execution_count": 1356,
   "metadata": {},
   "outputs": [
    {
     "data": {
      "text/plain": [
       "<AxesSubplot:>"
      ]
     },
     "execution_count": 1356,
     "metadata": {},
     "output_type": "execute_result"
    },
    {
     "data": {
      "image/png": "[encoded data removed]",
      "text/plain": [
       "<Figure size 720x432 with 1 Axes>"
      ]
     },
     "metadata": {
      "needs_background": "light"
     },
     "output_type": "display_data"
    }
   ],
   "source": [
    "non_pred_model = predictor.ForcedPredictionNPM()\n",
    "a, b = pre.predict(lst_y[:40], 20, non_pred_model)\n",
    "\n",
    "aa = []\n",
    "bb = []\n",
    "\n",
    "for i, j in zip(lst[40:(40 + len(a))], a):\n",
    "    if j != 'N':\n",
    "        aa.append(i)\n",
    "        bb.append(j)\n",
    "\n",
    "fig, ax = plt.subplots(1, 1, figsize=(10, 6))\n",
    "\n",
    "sns.lineplot(x=lst, y=lst_y, color='blue', ax=ax)\n",
    "sns.lineplot(x=aa, y=bb, color='green', ax=ax)"
   ]
  },
  {
   "cell_type": "code",
   "execution_count": 1126,
   "metadata": {},
   "outputs": [
    {
     "data": {
      "text/plain": [
       "<AxesSubplot:>"
      ]
     },
     "execution_count": 1126,
     "metadata": {},
     "output_type": "execute_result"
    },
    {
     "data": {
      "image/png": "[encoded data removed]",
      "text/plain": [
       "<Figure size 720x432 with 1 Axes>"
      ]
     },
     "metadata": {
      "needs_background": "light"
     },
     "output_type": "display_data"
    }
   ],
   "source": [
    "fig, ax = plt.subplots(1, 1, figsize=(10, 6))\n",
    "\n",
    "test_y = pre.get_trajectory_diff(lst_y[0], 30, 1)\n",
    "\n",
    "sns.lineplot(x=lst[:30], y=lst_y[:30], color='blue', ax=ax)\n",
    "sns.lineplot(x=lst[:len(test_y)], y=test_y, color='green', ax=ax)"
   ]
  },
  {
   "cell_type": "code",
   "execution_count": 1308,
   "metadata": {},
   "outputs": [],
   "source": [
    "pre2 = predictor_markov_chain()\n",
    "pre2.fit_train_array(lst_y)\n",
    "pre2.produce_chain_grad(30, 1, mode = 'uni')"
   ]
  },
  {
   "cell_type": "code",
   "execution_count": 1350,
   "metadata": {},
   "outputs": [
    {
     "data": {
      "text/plain": [
       "<AxesSubplot:>"
      ]
     },
     "execution_count": 1350,
     "metadata": {},
     "output_type": "execute_result"
    },
    {
     "data": {
      "image/png": "[encoded data removed]",
      "text/plain": [
       "<Figure size 720x432 with 1 Axes>"
      ]
     },
     "metadata": {
      "needs_background": "light"
     },
     "output_type": "display_data"
    }
   ],
   "source": [
    "non_pred_model = predictor.RapidGrowthNPM()\n",
    "a, b = pre2.predict(lst_y[40:], 20, non_pred_model, alg_type='grad')\n",
    "\n",
    "aa = []\n",
    "bb = []\n",
    "\n",
    "for i, j in zip(lst[40:(40 + len(a))], a):\n",
    "    if j != 'N':\n",
    "        aa.append(i)\n",
    "        bb.append(j)\n",
    "\n",
    "fig, ax = plt.subplots(1, 1, figsize=(10, 6))\n",
    "\n",
    "sns.lineplot(x=lst, y=lst_y, color='blue', ax=ax)\n",
    "sns.lineplot(x=aa, y=bb, color='green', ax=ax)"
   ]
  },
  {
   "cell_type": "code",
   "execution_count": 1284,
   "metadata": {},
   "outputs": [
    {
     "data": {
      "text/plain": [
       "<AxesSubplot:>"
      ]
     },
     "execution_count": 1284,
     "metadata": {},
     "output_type": "execute_result"
    },
    {
     "data": {
      "image/png": "[encoded data removed]",
      "text/plain": [
       "<Figure size 720x432 with 1 Axes>"
      ]
     },
     "metadata": {
      "needs_background": "light"
     },
     "output_type": "display_data"
    }
   ],
   "source": [
    "fig, ax = plt.subplots(1, 1, figsize=(10, 6))\n",
    "\n",
    "test_yy = pre2.continue_trajectory_grad([lst_y[i] for i in range(5)])\n",
    "\n",
    "sns.lineplot(x=lst[:30], y=lst_y[:30], color='blue', ax=ax)\n",
    "sns.lineplot(x=lst[:len(test_yy)], y=test_yy, color='green', ax=ax)"
   ]
  },
  {
   "cell_type": "code",
   "execution_count": 1384,
   "metadata": {},
   "outputs": [
    {
     "data": {
      "text/plain": [
       "array([0.05920574, 0.23229307, 0.43391142, 0.50497904, 0.53662395])"
      ]
     },
     "execution_count": 1384,
     "metadata": {},
     "output_type": "execute_result"
    }
   ],
   "source": [
    "Y1[:5]"
   ]
  },
  {
   "cell_type": "code",
   "execution_count": 1399,
   "metadata": {},
   "outputs": [],
   "source": [
    "x = list(range(200))\n",
    "y = Y1[1000:1200]\n",
    "non_pred_model = predictor.RapidGrowthNPM()"
   ]
  },
  {
   "cell_type": "code",
   "execution_count": 1400,
   "metadata": {},
   "outputs": [
    {
     "name": "stderr",
     "output_type": "stream",
     "text": [
      "100%|██████████| 950/950 [00:10<00:00, 93.20it/s] \n"
     ]
    }
   ],
   "source": [
    "predictor_power = predictor_markov_chain()\n",
    "predictor_power.fit_train_array(Y1[:1000])\n",
    "predictor_power.produce_chain_diff(50, mode='ind')"
   ]
  },
  {
   "cell_type": "code",
   "execution_count": 1401,
   "metadata": {},
   "outputs": [],
   "source": [
    "pred_y, pos_pre_y = predictor_power.predict(y[:100], 30, non_pred_model)"
   ]
  },
  {
   "cell_type": "code",
   "execution_count": 1402,
   "metadata": {},
   "outputs": [],
   "source": [
    "predictor_nopower = predictor.TimeSeriesPredictor([], non_pred_model)\n",
    "cluster_motifs = predictor_nopower.cluster_motifs(Y1[:1000])"
   ]
  },
  {
   "cell_type": "code",
   "execution_count": 1405,
   "metadata": {},
   "outputs": [],
   "source": [
    "prediction_params = {\n",
    "    'up_method' : 'db', # {'a', 'wi', 'db', 'op'}\n",
    "    'eps' : 0.01, # max distance in cluster\n",
    "    'min_samples' : 5, # min number of samples in cluster\n",
    "    'alg_type' : 's', # {'s', 'tp'}\n",
    "    'np_method' : 'fp'\n",
    "}\n",
    "\n",
    "pred_yy, pos_pred_yy = predictor_nopower.predict(y[:100], 10, **prediction_params)"
   ]
  },
  {
   "cell_type": "code",
   "execution_count": 58,
   "metadata": {},
   "outputs": [],
   "source": [
    "from time_series_prediction import main_predictor as mp\n",
    "from time_series_prediction import predictor as pr"
   ]
  },
  {
   "cell_type": "code",
   "execution_count": 59,
   "metadata": {},
   "outputs": [],
   "source": [
    "non_pred_model = mp.ForcedPredictionNPM()"
   ]
  },
  {
   "cell_type": "code",
   "execution_count": 60,
   "metadata": {},
   "outputs": [
    {
     "name": "stderr",
     "output_type": "stream",
     "text": [
      "100%|██████████| 9900/9900 [00:13<00:00, 746.25it/s]\n"
     ]
    }
   ],
   "source": [
    "pre1 = mp.predictor_markov_chain()\n",
    "pre1.fit_train_array(Y1)\n",
    "pre1.produce_graph(100, mode='uni')"
   ]
  },
  {
   "cell_type": "code",
   "execution_count": null,
   "metadata": {},
   "outputs": [],
   "source": [
    "pre2 = pr.TimeSeriesPredictor([], non_pred_model)\n",
    "pre2.cluster_motifs(Y1)"
   ]
  },
  {
   "cell_type": "code",
   "execution_count": 63,
   "metadata": {},
   "outputs": [],
   "source": [
    "y1, py1 = pre1.predict(Y2[:20], 50, non_pred_model, up_method='db')"
   ]
  },
  {
   "cell_type": "code",
   "execution_count": 51,
   "metadata": {},
   "outputs": [],
   "source": [
    "prediction_params = {\n",
    "    'up_method' : 'db', # {'a', 'wi', 'db', 'op'}\n",
    "    'eps' : 0.01, # max distance in cluster\n",
    "    'min_samples' : 5, # min number of samples in cluster\n",
    "    'alg_type' : 's', # {'s', 'tp'}\n",
    "    'np_method' : 'fp'\n",
    "}\n",
    "\n",
    "pre2.set_non_pred_model = non_pred_model\n",
    "y2, py2 = pre2.predict(Y2[:20], 100, **prediction_params)"
   ]
  },
  {
   "cell_type": "code",
   "execution_count": 56,
   "metadata": {},
   "outputs": [],
   "source": [
    "def clean(x_array, y_array):\n",
    "    x = []\n",
    "    y = []\n",
    "    for i, j in zip(x_array, y_array):\n",
    "        if j != 'N':\n",
    "            x.append(i)\n",
    "            y.append(j)\n",
    "    return x, y"
   ]
  },
  {
   "cell_type": "code",
   "execution_count": 81,
   "metadata": {},
   "outputs": [
    {
     "data": {
      "text/plain": [
       "array([-1, -1, -1, -1, -1, -1, -1, -1, -1, -1, -1, -1, -1, -1, -1, -1, -1,\n",
       "       -1, -1], dtype=int64)"
      ]
     },
     "execution_count": 81,
     "metadata": {},
     "output_type": "execute_result"
    }
   ],
   "source": [
    "labels = DBSCAN(eps=0.01, min_samples=5).fit_predict(np.array(py1[0]).reshape(-1, 1))\n",
    "labels\n"
   ]
  }
 ],
 "metadata": {
  "kernelspec": {
   "display_name": "Python 3.9.7 64-bit",
   "language": "python",
   "name": "python3"
  },
  "language_info": {
   "codemirror_mode": {
    "name": "ipython",
    "version": 3
   },
   "file_extension": ".py",
   "mimetype": "text/x-python",
   "name": "python",
   "nbconvert_exporter": "python",
   "pygments_lexer": "ipython3",
   "version": "3.9.7"
  },
  "orig_nbformat": 4,
  "vscode": {
   "interpreter": {
    "hash": "c347c8f9a7ef94e4c9e03b4513be7835ed18f45b99a2a817fb579f408b867b16"
   }
  }
 },
 "nbformat": 4,
 "nbformat_minor": 2
}
